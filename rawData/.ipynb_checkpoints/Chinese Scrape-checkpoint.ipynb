{
 "cells": [
  {
   "cell_type": "code",
   "execution_count": 3,
   "metadata": {
    "collapsed": true
   },
   "outputs": [],
   "source": [
    "### Trustpilot data scraping module \n",
    "### Author: Hakim Khalafi (hakimkse at gmail)\n",
    "\n",
    "## Imports\n",
    "\n",
    "import lxml.html as html\n",
    "import math\n",
    "import csv\n",
    "import time\n",
    "import requests"
   ]
  },
  {
   "cell_type": "code",
   "execution_count": 4,
   "metadata": {},
   "outputs": [
    {
     "name": "stdout",
     "output_type": "stream",
     "text": [
      "Processed 100123834/100464700 ratings.. Finished!\n",
      "Processed 100123835/100464700 ratings.. Finished!\n",
      "Processed 100123836/100464700 ratings.. Finished!\n",
      "Processed 100123837/100464700 ratings.. Finished!\n",
      "Processed 100123838/100464700 ratings.. Finished!\n",
      "Processed 100123848/100464700 ratings.. Finished!\n",
      "Processed 100123849/100464700 ratings.. Finished!\n",
      "Processed 100123850/100464700 ratings.. Finished!\n",
      "Processed 100123851/100464700 ratings.. Finished!\n",
      "Processed 100123852/100464700 ratings.. Finished!\n",
      "Processed 100123853/100464700 ratings.. Finished!\n",
      "Processed 100123854/100464700 ratings.. Finished!\n",
      "Processed 100123855/100464700 ratings.. Finished!\n"
     ]
    }
   ],
   "source": [
    "import requests\n",
    "from pandas.io.json import json_normalize\n",
    "import pandas as pd\n",
    "import lxml.html as html\n",
    "import math\n",
    "import csv\n",
    "import time\n",
    "import requests\n",
    "\n",
    "throttle = True\n",
    "sleepTime = 5\n",
    "df = pd.DataFrame()\n",
    "for i in range(100123832,100124000):\n",
    "    try:\n",
    "        if(throttle): time.sleep(sleepTime)\n",
    "        base_url = \"http://127.0.0.1:5000/recipe/\"\n",
    "#     page = requests.get(base_url + '?page=' + str(i))\n",
    "        page = requests.get(base_url + str(i)+ '/')\n",
    "        json_results = page.json()\n",
    "        new = pd.DataFrame(json_normalize(json_results, 'Content'))\n",
    "        df = df.append(new, ignore_index=True)\n",
    "        print('Processed ' + str(i) + '/' + str(100464700) + ' ratings.. Finished!')\n",
    "    except: \n",
    "        pass \n",
    "df.to_csv(\"recipe100121000_100124000_2.csv\", index=False, encoding = 'utf8')"
   ]
  },
  {
   "cell_type": "code",
   "execution_count": 12,
   "metadata": {},
   "outputs": [
    {
     "data": {
      "text/plain": [
       "0"
      ]
     },
     "execution_count": 12,
     "metadata": {},
     "output_type": "execute_result"
    }
   ],
   "source": [
    "len(df)"
   ]
  },
  {
   "cell_type": "markdown",
   "metadata": {},
   "source": [
    "df.head(10)"
   ]
  }
 ],
 "metadata": {
  "kernelspec": {
   "display_name": "Python 3",
   "language": "python",
   "name": "python3"
  },
  "language_info": {
   "codemirror_mode": {
    "name": "ipython",
    "version": 3
   },
   "file_extension": ".py",
   "mimetype": "text/x-python",
   "name": "python",
   "nbconvert_exporter": "python",
   "pygments_lexer": "ipython3",
   "version": "3.6.2"
  }
 },
 "nbformat": 4,
 "nbformat_minor": 1
}
